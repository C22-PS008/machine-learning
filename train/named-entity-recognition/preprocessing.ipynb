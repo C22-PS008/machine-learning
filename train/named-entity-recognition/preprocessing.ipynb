{
 "cells": [
  {
   "cell_type": "code",
   "execution_count": 133,
   "metadata": {},
   "outputs": [],
   "source": [
    "import pandas as pd"
   ]
  },
  {
   "cell_type": "code",
   "execution_count": 134,
   "metadata": {},
   "outputs": [
    {
     "data": {
      "text/html": [
       "<div>\n",
       "<style scoped>\n",
       "    .dataframe tbody tr th:only-of-type {\n",
       "        vertical-align: middle;\n",
       "    }\n",
       "\n",
       "    .dataframe tbody tr th {\n",
       "        vertical-align: top;\n",
       "    }\n",
       "\n",
       "    .dataframe thead th {\n",
       "        text-align: right;\n",
       "    }\n",
       "</style>\n",
       "<table border=\"1\" class=\"dataframe\">\n",
       "  <thead>\n",
       "    <tr style=\"text-align: right;\">\n",
       "      <th></th>\n",
       "      <th>token</th>\n",
       "      <th>label</th>\n",
       "    </tr>\n",
       "  </thead>\n",
       "  <tbody>\n",
       "    <tr>\n",
       "      <th>0</th>\n",
       "      <td>['Bahasa', 'C', 'mulai', 'dirilis', 'pada', 't...</td>\n",
       "      <td>NaN</td>\n",
       "    </tr>\n",
       "    <tr>\n",
       "      <th>1</th>\n",
       "      <td>['Untuk', 'paradigma', 'yang', 'dipakai', 'mas...</td>\n",
       "      <td>NaN</td>\n",
       "    </tr>\n",
       "    <tr>\n",
       "      <th>2</th>\n",
       "      <td>['Python', 'sendiri', 'bersifat', 'dinamis', '...</td>\n",
       "      <td>NaN</td>\n",
       "    </tr>\n",
       "    <tr>\n",
       "      <th>3</th>\n",
       "      <td>['PHP', 'dikembangkan', 'pada', 'tahun', '1994...</td>\n",
       "      <td>NaN</td>\n",
       "    </tr>\n",
       "    <tr>\n",
       "      <th>4</th>\n",
       "      <td>['SQL', 'adalah', 'bahasa', 'pemrograman', 'ya...</td>\n",
       "      <td>NaN</td>\n",
       "    </tr>\n",
       "  </tbody>\n",
       "</table>\n",
       "</div>"
      ],
      "text/plain": [
       "                                               token  label\n",
       "0  ['Bahasa', 'C', 'mulai', 'dirilis', 'pada', 't...    NaN\n",
       "1  ['Untuk', 'paradigma', 'yang', 'dipakai', 'mas...    NaN\n",
       "2  ['Python', 'sendiri', 'bersifat', 'dinamis', '...    NaN\n",
       "3  ['PHP', 'dikembangkan', 'pada', 'tahun', '1994...    NaN\n",
       "4  ['SQL', 'adalah', 'bahasa', 'pemrograman', 'ya...    NaN"
      ]
     },
     "execution_count": 134,
     "metadata": {},
     "output_type": "execute_result"
    }
   ],
   "source": [
    "df = pd.read_csv('ner.csv')\n",
    "df.head()"
   ]
  },
  {
   "cell_type": "code",
   "execution_count": 135,
   "metadata": {},
   "outputs": [],
   "source": [
    "df = df.apply(lambda x: x.astype(str).str.lower())"
   ]
  },
  {
   "cell_type": "code",
   "execution_count": 136,
   "metadata": {},
   "outputs": [],
   "source": [
    "tokens = df['token']"
   ]
  },
  {
   "cell_type": "code",
   "execution_count": 137,
   "metadata": {},
   "outputs": [],
   "source": [
    "def perusahaan(word):\n",
    "    myList = [\"tokopedia\", \"dana\", \"gojek\", \"traveloka\", \"tiket.com\", \"shopee\", \"bukalapak\", \"ovo\", \"ajaib\", \"google\"]\n",
    "\n",
    "    return word in myList\n",
    "\n",
    "def skills(word):\n",
    "    myList = [\"c\", \"c++\", \"python\", \"php\", \"sql\", \"typescript\", \"go\", \"golang\", \"javascript\", \"html\", \"css\", \"ruby\", \"xml\", \"apache\"]\n",
    "\n",
    "    return word in myList\n",
    "\n",
    "# def univ(word):\n",
    "#     myList = [\"universitas gadjah Mada\", \"institut teknologi bandung\", \"institut pertanian bogor\", \"Institut Teknologi Sepuluh Nopember\", \"Universitas Padjadjaran\", \"Bina Nusantara\", \"Universitas Diponegoro\", \"Universitas Telkom\"]\n",
    "#     myList = [item.lower() for item in myList]\n",
    "\n",
    "#     return word in myList\n",
    "\n",
    "def univ(word):\n",
    "    myList = [\"ugm\", \"itb\", \"ipb\", \"its\", \"unpad\", \"binus\", \"undip\", \"tel-u\"]\n",
    "    myList = [item.lower() for item in myList]\n",
    "\n",
    "    return word in myList\n",
    "\n",
    "def profesi(word):\n",
    "    myList = [\"web developer\", \"cloud engineer\", \"data analytics\", \"data scientist\", \"game developer\", \"konsultan it\", \"software engineer\", \"digital marketing\", \"digital marketer\", \"front-end developer\", \"back-end developer\", \"it support\", \"programmer\"]\n",
    "    myList = [item.lower() for item in myList]\n",
    "\n",
    "    return word in myList\n",
    "    "
   ]
  },
  {
   "cell_type": "code",
   "execution_count": 138,
   "metadata": {},
   "outputs": [],
   "source": [
    "output = list()\n",
    "for i in tokens:\n",
    "    baris = list()\n",
    "    i = i.replace(\"'\", \"\").strip(\"][\").split(', ')\n",
    "    for j in i:\n",
    "        # 1 perusahaan\n",
    "        if perusahaan(j) == True:\n",
    "            baris.append(1)\n",
    "        # 2 skills \n",
    "        elif skills(j) == True:\n",
    "            baris.append(2)\n",
    "        # 3 universitas\n",
    "        elif univ(j) == True:\n",
    "            baris.append(3)\n",
    "        elif profesi(j) == True:\n",
    "            baris.append(4)\n",
    "        # 5 others\n",
    "        else:\n",
    "            baris.append(5)\n",
    "    output.append(baris)"
   ]
  },
  {
   "cell_type": "code",
   "execution_count": 139,
   "metadata": {},
   "outputs": [
    {
     "name": "stdout",
     "output_type": "stream",
     "text": [
      "5 2 5 5 5 5 5 5 5 5 5 5 5 5 5 5 5 2 5 5 5 5 5 5 5 5 5 5 5 5 5 5 5 5 5 5 5 5 5 5 5 \n",
      "5 5 5 5 5 5 5 5 2 5 5 2 5 5 5 5 5 5 5 5 5 5 5 5 \n",
      "2 5 5 5 5 5 5 5 5 5 5 5 5 2 5 5 5 5 5 5 5 \n",
      "2 5 5 5 5 5 5 5 5 5 5 5 5 5 5 2 5 2 5 5 5 5 5 5 5 5 2 5 5 5 5 5 5 \n",
      "2 5 5 5 5 5 5 5 5 5 5 5 5 5 5 5 5 5 5 2 5 5 5 5 5 5 5 5 \n",
      "2 5 5 5 5 5 5 5 2 5 5 5 5 2 5 2 5 5 5 5 5 5 5 5 5 5 5 5 5 \n",
      "5 5 5 5 5 5 2 5 5 5 5 5 5 5 5 2 5 5 5 5 5 5 5 5 5 5 2 5 5 5 5 \n",
      "2 5 5 5 5 5 5 1 5 5 5 2 5 5 5 5 5 5 5 5 5 5 5 5 5 5 5 5 \n",
      "2 5 5 5 5 5 5 5 5 5 5 5 5 5 5 5 5 5 5 5 2 5 2 5 5 5 5 5 5 5 2 5 5 5 5 5 5 5 \n",
      "5 5 3 5 5 5 5 5 5 5 5 5 5 5 5 5 5 5 5 5 5 3 5 5 5 5 5 5 5 5 5 5 5 \n",
      "5 5 5 5 5 5 5 5 5 5 5 5 5 5 5 5 5 5 5 5 5 5 5 5 5 5 5 5 5 5 \n",
      "5 5 3 5 5 5 5 5 5 5 5 5 5 5 5 3 5 5 5 5 5 5 5 5 5 5 5 5 \n",
      "5 5 5 5 5 5 5 5 5 5 5 5 5 5 5 5 5 5 5 5 5 5 5 5 5 5 5 5 \n",
      "5 5 3 5 5 5 5 5 5 5 5 5 5 5 5 5 5 5 5 5 5 5 5 5 3 5 5 5 5 5 5 5 5 \n",
      "5 5 3 5 5 5 5 5 5 5 5 5 5 5 5 5 5 5 5 5 3 5 5 5 5 5 5 5 5 5 5 5 5 5 5 5 5 5 5 5 5 5 5 5 5 \n",
      "5 5 3 5 5 5 5 5 5 5 5 5 5 5 5 5 5 5 3 5 5 5 5 5 5 5 5 \n",
      "5 5 5 5 5 5 5 5 5 3 5 5 5 5 5 5 5 5 5 5 5 5 3 5 5 5 5 5 3 5 5 5 5 5 5 \n",
      "5 5 3 5 5 5 5 5 5 5 5 5 5 5 5 5 5 5 5 5 5 5 5 5 5 5 3 5 5 5 5 5 5 \n",
      "5 5 3 5 5 5 5 5 5 5 5 5 5 5 5 5 5 5 5 5 5 5 5 5 5 5 5 3 5 5 5 5 5 5 5 5 5 5 5 \n",
      "5 1 5 5 5 5 5 5 5 5 5 5 5 5 5 5 5 1 5 5 5 5 5 5 5 5 5 5 5 5 5 5 5 5 \n",
      "1 5 5 5 5 5 5 5 5 5 5 5 5 5 5 5 5 5 5 5 5 5 5 5 5 5 5 1 5 5 5 5 5 5 5 5 \n",
      "1 5 5 5 5 5 5 5 5 5 5 5 5 5 5 5 1 5 5 5 5 5 5 5 \n",
      "1 5 5 5 5 5 5 5 5 5 5 5 5 5 5 5 5 5 5 5 1 5 5 5 5 5 5 5 5 5 5 5 5 5 5 5 5 5 5 5 5 5 5 5 5 5 5 5 5 5 5 \n",
      "1 5 5 5 5 5 5 5 5 5 5 5 5 1 5 5 5 5 5 5 5 5 5 \n",
      "1 5 5 5 5 5 5 5 5 5 5 5 5 5 5 5 5 5 5 5 5 5 5 5 5 5 5 5 5 5 5 1 5 5 5 5 5 5 5 5 \n",
      "1 5 5 5 5 5 5 5 5 5 5 5 5 5 5 5 5 5 5 5 5 5 5 5 5 5 5 5 5 5 5 5 5 5 5 5 5 5 5 5 5 5 5 1 \n",
      "1 5 5 5 5 5 5 5 5 5 5 5 5 5 1 5 5 5 5 5 5 5 5 5 \n",
      "1 5 5 5 5 5 5 5 5 5 5 5 5 1 5 5 5 5 5 5 5 5 5 5 5 5 5 5 5 5 5 5 5 5 5 5 5 5 \n",
      "1 5 5 5 5 5 5 5 5 5 5 5 5 5 5 5 1 5 5 5 5 5 5 5 5 5 5 5 5 5 5 \n",
      "4 5 5 5 5 5 5 5 4 5 5 4 5 5 5 5 5 5 5 5 5 \n",
      "5 5 5 5 5 5 5 5 5 5 5 5 5 5 5 5 5 5 5 5 5 5 5 5 5 5 5 5 \n",
      "4 5 5 5 5 5 5 5 5 5 4 5 5 5 5 5 5 5 5 5 5 5 5 \n",
      "4 5 5 5 5 5 5 5 5 5 5 5 5 5 5 5 5 5 5 5 5 4 5 5 5 5 5 5 5 5 5 \n",
      "4 5 5 5 5 5 5 5 5 5 5 4 5 5 5 5 5 5 5 5 5 5 5 5 5 5 5 5 \n",
      "4 5 5 5 5 5 5 5 4 5 5 5 5 5 5 5 5 5 5 \n",
      "4 5 5 5 5 5 5 5 5 5 5 5 5 5 5 5 5 5 5 5 5 5 5 4 5 5 5 5 5 5 5 5 5 5 \n",
      "4 5 5 5 5 5 5 5 5 5 5 5 5 5 5 5 4 5 5 5 5 5 5 5 5 5 5 5 5 5 5 5 5 5 5 5 5 5 \n",
      "5 4 5 5 5 5 5 4 5 5 5 5 5 5 5 5 5 5 4 5 5 5 5 5 5 5 5 \n",
      "4 5 5 5 5 5 5 5 5 5 5 5 5 5 5 5 5 5 5 5 5 5 5 5 5 5 5 5 5 4 5 5 5 5 5 5 5 5 2 5 2 5 5 2 \n",
      "4 5 5 5 5 5 5 5 5 5 5 5 4 5 5 5 5 5 5 2 5 2 5 2 5 5 5 5 5 5 5 5 5 5 5 5 5 5 5 5 5 2 \n",
      "4 5 5 5 5 5 5 5 5 5 5 5 5 5 5 5 5 5 5 5 5 5 5 5 5 5 5 5 5 5 5 5 5 5 5 4 5 5 5 5 5 5 5 5 5 5 5 \n",
      "5 5 5 5 2 5 2 5 2 5 2 5 2 5 2 5 2 5 5 5 5 5 5 5 5 5 5 4 \n"
     ]
    }
   ],
   "source": [
    "for i in output:\n",
    "    for j in i:\n",
    "        print(j, end=\" \")\n",
    "    print()"
   ]
  },
  {
   "cell_type": "code",
   "execution_count": 141,
   "metadata": {},
   "outputs": [],
   "source": [
    "data = list(zip(tokens, output))\n",
    "\n",
    "dataset = pd.DataFrame(data, columns = ['tokens', 'tags']) \n",
    "# dataset"
   ]
  },
  {
   "cell_type": "code",
   "execution_count": 145,
   "metadata": {},
   "outputs": [],
   "source": [
    "js = dataset.to_json('ner_dataset.json')"
   ]
  }
 ],
 "metadata": {
  "interpreter": {
   "hash": "8e284ee3255a07ad8bf76694974743c4c81cb57e7c969474d752d949b11d721e"
  },
  "kernelspec": {
   "display_name": "Python 3.9.13 64-bit",
   "language": "python",
   "name": "python3"
  },
  "language_info": {
   "codemirror_mode": {
    "name": "ipython",
    "version": 3
   },
   "file_extension": ".py",
   "mimetype": "text/x-python",
   "name": "python",
   "nbconvert_exporter": "python",
   "pygments_lexer": "ipython3",
   "version": "3.9.13"
  },
  "orig_nbformat": 4
 },
 "nbformat": 4,
 "nbformat_minor": 2
}
